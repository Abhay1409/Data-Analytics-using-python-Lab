{
 "cells": [
  {
   "cell_type": "code",
   "execution_count": 1,
   "id": "8f90654a",
   "metadata": {},
   "outputs": [
    {
     "name": "stdout",
     "output_type": "stream",
     "text": [
      "enter the value to be inserted3\n",
      "[1, 2, 3, 4]\n"
     ]
    }
   ],
   "source": [
    "#2\n",
    "import bisect\n",
    "def insert(list,n):\n",
    "    bisect.insort(list,n)\n",
    "    return list\n",
    "list=[1,2,4]\n",
    "n=eval(input(\"enter the value to be inserted\"))\n",
    "print(insert(list,n))"
   ]
  },
  {
   "cell_type": "code",
   "execution_count": null,
   "id": "f69fd815",
   "metadata": {},
   "outputs": [],
   "source": []
  }
 ],
 "metadata": {
  "kernelspec": {
   "display_name": "Python 3 (ipykernel)",
   "language": "python",
   "name": "python3"
  },
  "language_info": {
   "codemirror_mode": {
    "name": "ipython",
    "version": 3
   },
   "file_extension": ".py",
   "mimetype": "text/x-python",
   "name": "python",
   "nbconvert_exporter": "python",
   "pygments_lexer": "ipython3",
   "version": "3.9.7"
  }
 },
 "nbformat": 4,
 "nbformat_minor": 5
}
