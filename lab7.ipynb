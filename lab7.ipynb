{
 "cells": [
  {
   "cell_type": "code",
   "execution_count": 1,
   "id": "b17e0eb0",
   "metadata": {},
   "outputs": [
    {
     "name": "stdout",
     "output_type": "stream",
     "text": [
      "printing array\n",
      "\n",
      "[[1 2 3]\n",
      " [4 5 6]\n",
      " [7 8 9]]\n",
      "printing numpy array attributes\n",
      "1) array dimension: 2\n",
      "2) array shape: (3, 3)\n",
      "3)array size: 9\n",
      "4) array data type: int32\n",
      "5) the length of each array item in bytes is: 4\n"
     ]
    }
   ],
   "source": [
    "import numpy as np\n",
    "a=np.array([[1,2,3], [4,5,6], [7,8,9]])\n",
    "print(\"printing array\")\n",
    "print()\n",
    "print(a)\n",
    "print(\"printing numpy array attributes\")\n",
    "print(\"1) array dimension:\",a.ndim)\n",
    "print(\"2) array shape:\",a.shape)\n",
    "print(\"3)array size:\",a.size)\n",
    "print(\"4) array data type:\",a.dtype)\n",
    "print(\"5) the length of each array item in bytes is:\",a.itemsize)"
   ]
  },
  {
   "cell_type": "code",
   "execution_count": null,
   "id": "0f9f6701",
   "metadata": {},
   "outputs": [],
   "source": []
  }
 ],
 "metadata": {
  "kernelspec": {
   "display_name": "Python 3 (ipykernel)",
   "language": "python",
   "name": "python3"
  },
  "language_info": {
   "codemirror_mode": {
    "name": "ipython",
    "version": 3
   },
   "file_extension": ".py",
   "mimetype": "text/x-python",
   "name": "python",
   "nbconvert_exporter": "python",
   "pygments_lexer": "ipython3",
   "version": "3.9.7"
  }
 },
 "nbformat": 4,
 "nbformat_minor": 5
}
